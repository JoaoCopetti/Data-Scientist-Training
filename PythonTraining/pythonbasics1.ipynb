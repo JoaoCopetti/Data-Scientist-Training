{
 "cells": [
  {
   "cell_type": "code",
   "execution_count": 21,
   "metadata": {},
   "outputs": [],
   "source": [
    "import numpy as np"
   ]
  },
  {
   "cell_type": "code",
   "execution_count": 22,
   "metadata": {},
   "outputs": [],
   "source": [
    "def gnrlist():\n",
    "    gnr = np.random.default_rng(1)\n",
    "    list4 = np.round(gnr.random(5) * 100, 2)\n",
    "    return  list4"
   ]
  },
  {
   "cell_type": "code",
   "execution_count": 23,
   "metadata": {},
   "outputs": [
    {
     "name": "stdout",
     "output_type": "stream",
     "text": [
      "Generated array: [51.18 95.05 14.42 94.86 31.18]\n"
     ]
    }
   ],
   "source": [
    "list1 = gnrlist()\n",
    "print(\"Generated array: %s\" %list1)"
   ]
  },
  {
   "cell_type": "code",
   "execution_count": 24,
   "metadata": {},
   "outputs": [],
   "source": [
    "def amplitude(list1):\n",
    "    maxvalue = max(list1)\n",
    "    minvalue = min(list1)\n",
    "    amplitudevalue = maxvalue - minvalue\n",
    "    return amplitudevalue"
   ]
  },
  {
   "cell_type": "code",
   "execution_count": 25,
   "metadata": {},
   "outputs": [
    {
     "name": "stdout",
     "output_type": "stream",
     "text": [
      "Generated array: [51.18 95.05 14.42 94.86 31.18] \n",
      "Maximum value: 95.05 \n",
      "Minimum value: 14.42 \n",
      "Amplitude calculated : 80.63\n"
     ]
    }
   ],
   "source": [
    "amplitudecalc = amplitude(list1)\n",
    "print(\"Generated array: %s \\nMaximum value: %s \\nMinimum value: %s \\nAmplitude calculated : %s\" % (list1, max(list1), min(list1), amplitudecalc))"
   ]
  },
  {
   "cell_type": "code",
   "execution_count": 26,
   "metadata": {},
   "outputs": [
    {
     "name": "stdout",
     "output_type": "stream",
     "text": [
      "Typed sentence: TesT $ent3nc3\n"
     ]
    }
   ],
   "source": [
    "list2 = input()\n",
    "print(\"Typed sentence: %s\" % list2)"
   ]
  },
  {
   "cell_type": "code",
   "execution_count": null,
   "metadata": {},
   "outputs": [],
   "source": [
    "def verticalstring(list2):\n",
    "    result = \"\"\n",
    "    for i in range(0, len(list2)):\n",
    "        result += list2[i] + \"\\n\"\n",
    "    return result"
   ]
  },
  {
   "cell_type": "code",
   "execution_count": 28,
   "metadata": {},
   "outputs": [
    {
     "name": "stdout",
     "output_type": "stream",
     "text": [
      "T\n",
      "e\n",
      "s\n",
      "T\n",
      " \n",
      "$\n",
      "e\n",
      "n\n",
      "t\n",
      "3\n",
      "n\n",
      "c\n",
      "3\n",
      "\n"
     ]
    }
   ],
   "source": [
    "vertical = verticalstring(list2)\n",
    "print(vertical)"
   ]
  },
  {
   "cell_type": "code",
   "execution_count": 29,
   "metadata": {},
   "outputs": [],
   "source": [
    "def weightcalc():\n",
    "    weight = int(input(\"Type your weight: \"))\n",
    "    if(weight <= 10):\n",
    "        print(\"The total value is: $50.00\" )\n",
    "    elif(weight <= 20):\n",
    "        print(\"The total value is: $80.00\")\n",
    "    else:\n",
    "        print(\"The value is not accepted\")\n",
    "    return \"\""
   ]
  },
  {
   "cell_type": "code",
   "execution_count": 30,
   "metadata": {},
   "outputs": [
    {
     "name": "stdout",
     "output_type": "stream",
     "text": [
      "The total value is: $80.00\n",
      "\n"
     ]
    }
   ],
   "source": [
    "weightresult = weightcalc()\n",
    "print(weightresult)"
   ]
  }
 ],
 "metadata": {
  "kernelspec": {
   "display_name": "base",
   "language": "python",
   "name": "python3"
  },
  "language_info": {
   "codemirror_mode": {
    "name": "ipython",
    "version": 3
   },
   "file_extension": ".py",
   "mimetype": "text/x-python",
   "name": "python",
   "nbconvert_exporter": "python",
   "pygments_lexer": "ipython3",
   "version": "3.12.7"
  }
 },
 "nbformat": 4,
 "nbformat_minor": 2
}
